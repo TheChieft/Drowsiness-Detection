{
 "cells": [
  {
   "cell_type": "code",
   "execution_count": 3,
   "metadata": {},
   "outputs": [],
   "source": [
    "import cv2"
   ]
  },
  {
   "cell_type": "markdown",
   "metadata": {},
   "source": [
    "### Funciones Comunes"
   ]
  },
  {
   "cell_type": "code",
   "execution_count": 12,
   "metadata": {},
   "outputs": [],
   "source": [
    "def load_image(file_path):\n",
    "    print(f\"Cargando imagen desde '{file_path}'...\")\n",
    "    image = cv2.imread(file_path)\n",
    "    print(\"Redimensionando imagen a 400x400...\")\n",
    "    # Redimencionar todas las imagenes a 400x400\n",
    "    image = cv2.resize(image, (400, 400))\n",
    "    \n",
    "    if image is None:\n",
    "        raise FileNotFoundError(f\"Image file '{file_path}' not found.\")\n",
    "    return image\n",
    "\n",
    "def show_image(image, window_name='image'):\n",
    "    \n",
    "    print(\"Mostrando imagen...\")\n",
    "    cv2.imshow(window_name, image)\n",
    "    cv2.waitKey(0)\n",
    "    cv2.destroyAllWindows()\n"
   ]
  },
  {
   "cell_type": "code",
   "execution_count": 45,
   "metadata": {},
   "outputs": [
    {
     "name": "stdout",
     "output_type": "stream",
     "text": [
      "IMAGEN: ./face_eyes_db/face1.jpeg\n"
     ]
    }
   ],
   "source": [
    "PATH = './face_eyes_db'\n",
    "i = 1\n",
    "IMAGEN = PATH + f'/face{i}.jpeg'\n",
    "\n",
    "print(f'IMAGEN: {IMAGEN}')"
   ]
  },
  {
   "cell_type": "markdown",
   "metadata": {},
   "source": [
    "# Explorar Open CV"
   ]
  },
  {
   "cell_type": "markdown",
   "metadata": {},
   "source": [
    "## Detectar caras"
   ]
  },
  {
   "cell_type": "code",
   "execution_count": 46,
   "metadata": {},
   "outputs": [],
   "source": [
    "def detect_face(image):\n",
    "    print(\"Cargando modelo de detección de rostros...\")\n",
    "    face_cascade = cv2.CascadeClassifier(cv2.data.haarcascades + 'haarcascade_frontalface_default.xml')\n",
    "    print(\"Detectando rostros en la imagen...\")\n",
    "    gray = cv2.cvtColor(image, cv2.COLOR_BGR2GRAY)\n",
    "    faces = face_cascade.detectMultiScale(gray, 1.3, 5)\n",
    "    print(f\"Se encontraron {len(faces)} rostros.\")\n",
    "    for (x, y, w, h) in faces:\n",
    "        cv2.rectangle(image, (x, y), (x+w, y+h), (255, 0, 0), 2)\n",
    "    return image"
   ]
  },
  {
   "cell_type": "code",
   "execution_count": 47,
   "metadata": {},
   "outputs": [
    {
     "name": "stdout",
     "output_type": "stream",
     "text": [
      "Cargando imagen desde './face_eyes_db/face1.jpeg'...\n",
      "Redimensionando imagen a 400x400...\n",
      "Cargando modelo de detección de rostros...\n",
      "Detectando rostros en la imagen...\n",
      "Se encontraron 1 rostros.\n",
      "Mostrando imagen...\n"
     ]
    }
   ],
   "source": [
    "# Cargar una imagen desde un archivo\n",
    "try:\n",
    "    img = load_image(IMAGEN)\n",
    "    img = detect_face(img)\n",
    "    show_image(img)\n",
    "    \n",
    "except FileNotFoundError as e:\n",
    "    print(e)"
   ]
  },
  {
   "cell_type": "markdown",
   "metadata": {},
   "source": [
    "## Detectar ojos individualmente"
   ]
  },
  {
   "cell_type": "code",
   "execution_count": 48,
   "metadata": {},
   "outputs": [],
   "source": [
    "# Detectar ojoso individualmente\n",
    "\n",
    "def detect_eyes(image):\n",
    "    left_eye_cascade = cv2.CascadeClassifier(cv2.data.haarcascades + 'haarcascade_lefteye_2splits.xml')\n",
    "    right_eye_cascade = cv2.CascadeClassifier(cv2.data.haarcascades + 'haarcascade_righteye_2splits.xml')\n",
    "    print(\"Detectando ojos en la imagen...\")\n",
    "    gray = cv2.cvtColor(image, cv2.COLOR_BGR2GRAY)\n",
    "    left_eyes = left_eye_cascade.detectMultiScale(gray, 1.3, 5)\n",
    "    right_eyes = right_eye_cascade.detectMultiScale(gray, 1.3, 5)\n",
    "    print(f\"Se encontraron {len(left_eyes)} ojos izquierdos y {len(right_eyes)} ojos derechos.\")\n",
    "    \n",
    "    # dibujar contornos\n",
    "    for (x, y, w, h) in left_eyes:\n",
    "        cv2.rectangle(image, (x, y), (x+w, y+h), (0, 255, 0), 2)\n",
    "    for (x, y, w, h) in right_eyes:\n",
    "        cv2.rectangle(image, (x, y), (x+w, y+h), (0, 255, 0), 2)\n",
    "        \n",
    "    return image\n"
   ]
  },
  {
   "cell_type": "code",
   "execution_count": 49,
   "metadata": {},
   "outputs": [
    {
     "name": "stdout",
     "output_type": "stream",
     "text": [
      "Cargando imagen desde './face_eyes_db/face1.jpeg'...\n",
      "Redimensionando imagen a 400x400...\n",
      "Detectando ojos en la imagen...\n",
      "Se encontraron 1 ojos izquierdos y 1 ojos derechos.\n",
      "Mostrando imagen...\n"
     ]
    }
   ],
   "source": [
    "# Cargar una imagen desde un archivo\n",
    "try:\n",
    "    img = load_image(IMAGEN)\n",
    "    img = detect_eyes(img)\n",
    "    show_image(img)\n",
    "    \n",
    "except FileNotFoundError as e:\n",
    "    print(e)"
   ]
  },
  {
   "cell_type": "markdown",
   "metadata": {},
   "source": [
    "## Detectar boca "
   ]
  },
  {
   "cell_type": "code",
   "execution_count": 52,
   "metadata": {},
   "outputs": [],
   "source": [
    "# Detectar los mouht\n",
    "\n",
    "def detect_mouth(image):\n",
    "    mouth_cascade = cv2.CascadeClassifier(cv2.data.haarcascades + 'haarcascade_smile.xml')\n",
    "    print(\"Detectando bocas en la imagen...\")\n",
    "    gray = cv2.cvtColor(image, cv2.COLOR_BGR2GRAY)\n",
    "    mouths = mouth_cascade.detectMultiScale(gray, 1.3, 5)\n",
    "    print(f\"Se encontraron {len(mouths)} bocas.\")\n",
    "    \n",
    "    # dibujar contornos\n",
    "    for (x, y, w, h) in mouths:\n",
    "        cv2.rectangle(image, (x, y), (x+w, y+h), (0, 0, 255), 2)\n",
    "        \n",
    "    return image\n"
   ]
  },
  {
   "cell_type": "code",
   "execution_count": 53,
   "metadata": {},
   "outputs": [
    {
     "name": "stdout",
     "output_type": "stream",
     "text": [
      "Cargando imagen desde './face_eyes_db/face1.jpeg'...\n",
      "Redimensionando imagen a 400x400...\n",
      "Detectando bocas en la imagen...\n",
      "Se encontraron 2 bocas.\n",
      "Mostrando imagen...\n"
     ]
    }
   ],
   "source": [
    "# Cargar una imagen desde un archivo\n",
    "try:\n",
    "    img = load_image(IMAGEN)\n",
    "    img = detect_mouth(img)\n",
    "    show_image(img)\n",
    "    \n",
    "except FileNotFoundError as e:\n",
    "    print(e)"
   ]
  },
  {
   "cell_type": "markdown",
   "metadata": {},
   "source": [
    "## Detectar Hombros"
   ]
  },
  {
   "cell_type": "code",
   "execution_count": 56,
   "metadata": {},
   "outputs": [],
   "source": [
    "# Detectar shoulders    \n",
    "\n",
    "def detect_shourders(image):\n",
    "    body = cv2.CascadeClassifier(cv2.data.haarcascades + 'mcs_upperbody.xml')\n",
    "    print(\"Detectando hombros en la imagen...\")\n",
    "    gray = cv2.cvtColor(image, cv2.COLOR_BGR2GRAY)\n",
    "    bodies = body.detectMultiScale(gray, 1.3, 5)\n",
    "    print(f\"Se encontraron {len(bodies)} hombros.\")\n",
    "    \n",
    "    # dibujar contornos\n",
    "    for (x, y, w, h) in bodies:\n",
    "        cv2.rectangle(image, (x, y), (x+w, y+h), (0, 0, 255), 2)\n",
    "        \n",
    "    return image\n"
   ]
  },
  {
   "cell_type": "code",
   "execution_count": 57,
   "metadata": {},
   "outputs": [
    {
     "name": "stdout",
     "output_type": "stream",
     "text": [
      "Cargando imagen desde './face_eyes_db/face1.jpeg'...\n",
      "Redimensionando imagen a 400x400...\n",
      "Detectando hombros en la imagen...\n"
     ]
    },
    {
     "name": "stderr",
     "output_type": "stream",
     "text": [
      "[ERROR:0@794.717] global persistence.cpp:531 open Can't open file: '/home/thechieft/Documents/GitHub/Universidad/DeepLearning/Drowsiness-Detection/.conda/lib/python3.11/site-packages/cv2/data/mcs_upperbody.xml' in read mode\n"
     ]
    },
    {
     "ename": "error",
     "evalue": "OpenCV(4.10.0) /io/opencv/modules/objdetect/src/cascadedetect.cpp:1689: error: (-215:Assertion failed) !empty() in function 'detectMultiScale'\n",
     "output_type": "error",
     "traceback": [
      "\u001b[0;31m---------------------------------------------------------------------------\u001b[0m",
      "\u001b[0;31merror\u001b[0m                                     Traceback (most recent call last)",
      "Cell \u001b[0;32mIn[57], line 4\u001b[0m\n\u001b[1;32m      2\u001b[0m \u001b[38;5;28;01mtry\u001b[39;00m:\n\u001b[1;32m      3\u001b[0m     img \u001b[38;5;241m=\u001b[39m load_image(IMAGEN)\n\u001b[0;32m----> 4\u001b[0m     img \u001b[38;5;241m=\u001b[39m \u001b[43mdetect_shourders\u001b[49m\u001b[43m(\u001b[49m\u001b[43mimg\u001b[49m\u001b[43m)\u001b[49m\n\u001b[1;32m      5\u001b[0m     show_image(img)\n\u001b[1;32m      7\u001b[0m \u001b[38;5;28;01mexcept\u001b[39;00m \u001b[38;5;167;01mFileNotFoundError\u001b[39;00m \u001b[38;5;28;01mas\u001b[39;00m e:\n",
      "Cell \u001b[0;32mIn[56], line 7\u001b[0m, in \u001b[0;36mdetect_shourders\u001b[0;34m(image)\u001b[0m\n\u001b[1;32m      5\u001b[0m \u001b[38;5;28mprint\u001b[39m(\u001b[38;5;124m\"\u001b[39m\u001b[38;5;124mDetectando hombros en la imagen...\u001b[39m\u001b[38;5;124m\"\u001b[39m)\n\u001b[1;32m      6\u001b[0m gray \u001b[38;5;241m=\u001b[39m cv2\u001b[38;5;241m.\u001b[39mcvtColor(image, cv2\u001b[38;5;241m.\u001b[39mCOLOR_BGR2GRAY)\n\u001b[0;32m----> 7\u001b[0m bodies \u001b[38;5;241m=\u001b[39m \u001b[43mbody\u001b[49m\u001b[38;5;241;43m.\u001b[39;49m\u001b[43mdetectMultiScale\u001b[49m\u001b[43m(\u001b[49m\u001b[43mgray\u001b[49m\u001b[43m,\u001b[49m\u001b[43m \u001b[49m\u001b[38;5;241;43m1.3\u001b[39;49m\u001b[43m,\u001b[49m\u001b[43m \u001b[49m\u001b[38;5;241;43m5\u001b[39;49m\u001b[43m)\u001b[49m\n\u001b[1;32m      8\u001b[0m \u001b[38;5;28mprint\u001b[39m(\u001b[38;5;124mf\u001b[39m\u001b[38;5;124m\"\u001b[39m\u001b[38;5;124mSe encontraron \u001b[39m\u001b[38;5;132;01m{\u001b[39;00m\u001b[38;5;28mlen\u001b[39m(bodies)\u001b[38;5;132;01m}\u001b[39;00m\u001b[38;5;124m hombros.\u001b[39m\u001b[38;5;124m\"\u001b[39m)\n\u001b[1;32m     10\u001b[0m \u001b[38;5;66;03m# dibujar contornos\u001b[39;00m\n",
      "\u001b[0;31merror\u001b[0m: OpenCV(4.10.0) /io/opencv/modules/objdetect/src/cascadedetect.cpp:1689: error: (-215:Assertion failed) !empty() in function 'detectMultiScale'\n"
     ]
    }
   ],
   "source": [
    "# Cargar una imagen desde un archivo\n",
    "try:\n",
    "    img = load_image(IMAGEN)\n",
    "    img = detect_shourders(img)\n",
    "    show_image(img)\n",
    "    \n",
    "except FileNotFoundError as e:\n",
    "    print(e)"
   ]
  },
  {
   "cell_type": "code",
   "execution_count": null,
   "metadata": {},
   "outputs": [],
   "source": []
  }
 ],
 "metadata": {
  "kernelspec": {
   "display_name": "Python 3",
   "language": "python",
   "name": "python3"
  },
  "language_info": {
   "codemirror_mode": {
    "name": "ipython",
    "version": 3
   },
   "file_extension": ".py",
   "mimetype": "text/x-python",
   "name": "python",
   "nbconvert_exporter": "python",
   "pygments_lexer": "ipython3",
   "version": "3.11.9"
  }
 },
 "nbformat": 4,
 "nbformat_minor": 2
}
